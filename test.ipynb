{
    "cells": [
        {
            "cell_type": "code",
            "execution_count": 1,
            "metadata": {},
            "outputs": [],
            "source": [
                "import sys\n",
                "\n",
                "sys.path.append(\"lib\")\n",
                "\n",
                "from functorch import vmap\n",
                "\n",
                "import matplotlib.pyplot as plt\n",
                "\n",
                "import lib\n",
                "import torch\n",
                "import math"
            ]
        },
        {
            "cell_type": "code",
            "execution_count": 2,
            "metadata": {},
            "outputs": [],
            "source": [
                "device = torch.device(\"cuda\")"
            ]
        },
        {
            "cell_type": "code",
            "execution_count": 3,
            "metadata": {},
            "outputs": [],
            "source": [
                "Nx = 100\n",
                "Ny = 100\n",
                "mesh = lib.mesh.RectangleMesh({\"xmin\": 0, \"xmax\": 10, \"ymin\": 0, \"ymax\": 10, \"Nx\": Nx, \"Ny\": Ny}, device)\n",
                "\n",
                "problem = lib.problem.FEProblem(mesh)\n",
                "problem.add_variable(\"ux\", lambda x : torch.sin(x[0]))\n",
                "problem.add_variable(\"uy\", lambda x : torch.sin(x[1]))\n",
                "problem.add_weakform(lib.weakform.Diffusion(problem, {\"variable\":\"ux\"}))\n",
                "problem.add_weakform(lib.weakform.Diffusion(problem, {\"variable\":\"uy\"}))\n",
                "problem.init_solution()\n",
                "\n",
                "problem.write_vtk(\"foo.vtk\")"
            ]
        },
        {
            "cell_type": "code",
            "execution_count": 4,
            "metadata": {},
            "outputs": [],
            "source": [
                "jacobian = problem.jacobian()"
            ]
        },
        {
            "cell_type": "code",
            "execution_count": 5,
            "metadata": {},
            "outputs": [
                {
                    "data": {
                        "text/plain": [
                            "(20402, 20402)"
                        ]
                    },
                    "execution_count": 5,
                    "metadata": {},
                    "output_type": "execute_result"
                }
            ],
            "source": [
                "jacobian.shape\n",
                "# set bc\n",
                "# solve"
            ]
        },
        {
            "cell_type": "code",
            "execution_count": 6,
            "metadata": {},
            "outputs": [],
            "source": [
                "import matplotlib.pyplot as plt"
            ]
        },
        {
            "cell_type": "code",
            "execution_count": 7,
            "metadata": {},
            "outputs": [
                {
                    "data": {
                        "text/plain": [
                            "<matplotlib.lines.Line2D at 0x7f029883e470>"
                        ]
                    },
                    "execution_count": 7,
                    "metadata": {},
                    "output_type": "execute_result"
                },
                {
                    "data": {
                        "image/png": "[encoded data removed]",
                        "text/plain": [
                            "<Figure size 640x480 with 1 Axes>"
                        ]
                    },
                    "metadata": {},
                    "output_type": "display_data"
                }
            ],
            "source": [
                "plt.spy(jacobian)"
            ]
        }
    ],
    "metadata": {
        "kernelspec": {
            "display_name": "rom",
            "language": "python",
            "name": "python3"
        },
        "language_info": {
            "codemirror_mode": {
                "name": "ipython",
                "version": 3
            },
            "file_extension": ".py",
            "mimetype": "text/x-python",
            "name": "python",
            "nbconvert_exporter": "python",
            "pygments_lexer": "ipython3",
            "version": "3.10.8"
        },
        "orig_nbformat": 4,
        "vscode": {
            "interpreter": {
                "hash": "e6a8b2b258f62108f3ff77de09984d8004535cef597ff768a3afe3c2f407c4b8"
            }
        }
    },
    "nbformat": 4,
    "nbformat_minor": 2
}
