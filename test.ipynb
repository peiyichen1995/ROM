{
    "cells": [
        {
            "cell_type": "code",
            "execution_count": 1,
            "metadata": {},
            "outputs": [],
            "source": [
                "import sys\n",
                "\n",
                "sys.path.append(\"lib\")\n",
                "\n",
                "from functorch import vmap\n",
                "\n",
                "import matplotlib.pyplot as plt\n",
                "\n",
                "import lib\n",
                "import torch\n",
                "import math"
            ]
        },
        {
            "cell_type": "code",
            "execution_count": 2,
            "metadata": {},
            "outputs": [],
            "source": [
                "Nx = 10\n",
                "Ny = 10\n",
                "mesh = lib.mesh.RectangleMesh({\"xmin\": 0, \"xmax\": 10, \"ymin\": 0, \"ymax\": 10, \"Nx\": Nx, \"Ny\": Ny})\n",
                "\n",
                "problem = lib.problem.FEProblem(mesh)\n",
                "problem.add_variable(\"ux\", lambda x : torch.sin(x[0]))\n",
                "problem.add_variable(\"uy\", lambda x : torch.sin(x[1]))\n",
                "problem.init_solution()\n",
                "problem.write_vtk(\"foo.vtk\")"
            ]
        }
    ],
    "metadata": {
        "kernelspec": {
            "display_name": "rom",
            "language": "python",
            "name": "python3"
        },
        "language_info": {
            "codemirror_mode": {
                "name": "ipython",
                "version": 3
            },
            "file_extension": ".py",
            "mimetype": "text/x-python",
            "name": "python",
            "nbconvert_exporter": "python",
            "pygments_lexer": "ipython3",
            "version": "3.10.8"
        },
        "orig_nbformat": 4,
        "vscode": {
            "interpreter": {
                "hash": "e6a8b2b258f62108f3ff77de09984d8004535cef597ff768a3afe3c2f407c4b8"
            }
        }
    },
    "nbformat": 4,
    "nbformat_minor": 2
}
