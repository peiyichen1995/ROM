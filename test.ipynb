{
    "cells": [
        {
            "cell_type": "code",
            "execution_count": 1,
            "metadata": {},
            "outputs": [],
            "source": [
                "import sys\n",
                "\n",
                "sys.path.append(\"lib\")\n",
                "\n",
                "from functorch import vmap\n",
                "\n",
                "import matplotlib.pyplot as plt\n",
                "\n",
                "import lib\n",
                "import torch\n",
                "import math\n",
                "import numpy"
            ]
        },
        {
            "cell_type": "code",
            "execution_count": 2,
            "metadata": {},
            "outputs": [],
            "source": [
                "device = torch.device(\"cuda\")"
            ]
        },
        {
            "cell_type": "code",
            "execution_count": 3,
            "metadata": {},
            "outputs": [],
            "source": [
                "Nx = 10\n",
                "Ny = 10\n",
                "mesh = lib.mesh.RectangleMesh({\"xmin\": 0, \"xmax\": 1, \"ymin\": 0, \"ymax\": 1, \"Nx\": Nx, \"Ny\": Ny}, device)\n",
                "left = torch.isclose(mesh.nodes[:,0], torch.zeros(1, device=device)).nonzero().squeeze(1)\n",
                "right = torch.isclose(mesh.nodes[:,0], torch.ones(1, device=device)).nonzero().squeeze(1)\n",
                "bottom = torch.isclose(mesh.nodes[:,1], torch.zeros(1, device=device)).nonzero().squeeze(1)\n",
                "top = torch.isclose(mesh.nodes[:,1], torch.ones(1, device=device)).nonzero().squeeze(1)"
            ]
        },
        {
            "cell_type": "code",
            "execution_count": 4,
            "metadata": {},
            "outputs": [],
            "source": [
                "problem = lib.problem.FEProblem(mesh)\n",
                "problem.add_variable(\"ux\", lambda x : torch.sin(x[0]))\n",
                "problem.add_variable(\"uy\", lambda x : torch.sin(x[1]))\n",
                "problem.add_weakform(lib.weakform.Diffusion(problem, {\"variable\":\"ux\"}))\n",
                "problem.add_weakform(lib.weakform.Diffusion(problem, {\"variable\":\"uy\"}))\n",
                "problem.init_solution()"
            ]
        },
        {
            "cell_type": "code",
            "execution_count": 5,
            "metadata": {},
            "outputs": [],
            "source": [
                "problem.add_nodal_bc(lib.bc.DirichletBC(problem, {\"value\":0,\"boundary\":left,\"variable\":\"ux\"}))\n",
                "problem.add_nodal_bc(lib.bc.DirichletBC(problem, {\"value\":0.1,\"boundary\":right,\"variable\":\"ux\"}))\n",
                "problem.add_nodal_bc(lib.bc.DirichletBC(problem, {\"value\":-0.1,\"boundary\":bottom,\"variable\":\"uy\"}))\n",
                "problem.add_nodal_bc(lib.bc.DirichletBC(problem, {\"value\":0.1,\"boundary\":top,\"variable\":\"uy\"}))"
            ]
        },
        {
            "cell_type": "code",
            "execution_count": 6,
            "metadata": {},
            "outputs": [
                {
                    "name": "stdout",
                    "output_type": "stream",
                    "text": [
                        "Iteration 0, ||r|| = 1.292E+00\n",
                        "Iteration 1, ||r|| = 2.078E-16\n"
                    ]
                }
            ],
            "source": [
                "problem.solve()"
            ]
        },
        {
            "cell_type": "code",
            "execution_count": 7,
            "metadata": {},
            "outputs": [],
            "source": [
                "problem.write_vtk(\"foo.vtk\")"
            ]
        }
    ],
    "metadata": {
        "kernelspec": {
            "display_name": "rom",
            "language": "python",
            "name": "python3"
        },
        "language_info": {
            "codemirror_mode": {
                "name": "ipython",
                "version": 3
            },
            "file_extension": ".py",
            "mimetype": "text/x-python",
            "name": "python",
            "nbconvert_exporter": "python",
            "pygments_lexer": "ipython3",
            "version": "3.10.8"
        },
        "orig_nbformat": 4,
        "vscode": {
            "interpreter": {
                "hash": "e6a8b2b258f62108f3ff77de09984d8004535cef597ff768a3afe3c2f407c4b8"
            }
        }
    },
    "nbformat": 4,
    "nbformat_minor": 2
}
