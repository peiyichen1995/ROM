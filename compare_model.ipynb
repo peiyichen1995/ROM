{
 "cells": [
  {
   "cell_type": "code",
   "execution_count": 1,
   "metadata": {},
   "outputs": [
    {
     "name": "stderr",
     "output_type": "stream",
     "text": [
      "/home/peiyi/mambaforge3/envs/rom/lib/python3.10/site-packages/tqdm/auto.py:22: TqdmWarning: IProgress not found. Please update jupyter and ipywidgets. See https://ipywidgets.readthedocs.io/en/stable/user_install.html\n",
      "  from .autonotebook import tqdm as notebook_tqdm\n"
     ]
    }
   ],
   "source": [
    "import pandas as pd\n",
    "import numpy as np\n",
    "import matplotlib.pyplot as plt\n",
    "from matplotlib import cm\n",
    "from sklearn.cluster import KMeans\n",
    "import copy\n",
    "\n",
    "import sys\n",
    "sys.path.append(\"lib\")\n",
    "\n",
    "import lib\n",
    "\n",
    "import torch\n",
    "torch.set_default_dtype(torch.float64)\n",
    "\n",
    "from functorch import vmap\n",
    "from torch.utils.data import DataLoader\n",
    "import tqdm\n",
    "\n",
    "device = torch.device(\"cuda\")"
   ]
  },
  {
   "cell_type": "code",
   "execution_count": 2,
   "metadata": {},
   "outputs": [],
   "source": [
    "coords_x, coords_y, _ = lib.utils.read_coords(\"2d_burger_data/time_step_0.csv\")\n",
    "coords = torch.stack((coords_x, coords_y), dim=1)"
   ]
  },
  {
   "cell_type": "code",
   "execution_count": 3,
   "metadata": {},
   "outputs": [
    {
     "data": {
      "text/plain": [
       "torch.Size([1001, 14641])"
      ]
     },
     "execution_count": 3,
     "metadata": {},
     "output_type": "execute_result"
    }
   ],
   "source": [
    "# dt = 0.004\n",
    "# num_steps = 501\n",
    "dt = 0.002\n",
    "num_steps = 1001\n",
    "num_nodes = coords_x.shape[0]\n",
    "\n",
    "datas = lib.utils.read_data(num_steps, num_nodes, '2d_burger_data/time_step_', 'vel_0')\n",
    "datas.shape"
   ]
  },
  {
   "cell_type": "code",
   "execution_count": 4,
   "metadata": {},
   "outputs": [
    {
     "data": {
      "text/plain": [
       "torch.Size([1000, 29282])"
      ]
     },
     "execution_count": 4,
     "metadata": {},
     "output_type": "execute_result"
    }
   ],
   "source": [
    "u_dot = lib.utils.u_dot(datas, dt)\n",
    "\n",
    "datas = torch.hstack((datas[:-1], u_dot))\n",
    "datas.shape"
   ]
  },
  {
   "cell_type": "code",
   "execution_count": 5,
   "metadata": {},
   "outputs": [],
   "source": [
    "m = 50\n",
    "clustering = KMeans(n_clusters=m, random_state=0, n_init=\"auto\").fit(coords)"
   ]
  },
  {
   "cell_type": "code",
   "execution_count": 6,
   "metadata": {},
   "outputs": [],
   "source": [
    "group_indices = []\n",
    "for i in range(m):\n",
    "    group_indices.append(torch.tensor(np.where(clustering.labels_ == i)[0], device=device))"
   ]
  },
  {
   "cell_type": "code",
   "execution_count": 7,
   "metadata": {},
   "outputs": [],
   "source": [
    "N = datas.shape[1] // 2\n",
    "n = 20\n",
    "# fixed support (length)\n",
    "mu = int(np.ceil(N/200))\n",
    "neighbour_distance, neighbour_id = lib.utils.topk_neighbours(coords, mu)"
   ]
  },
  {
   "cell_type": "code",
   "execution_count": 8,
   "metadata": {},
   "outputs": [],
   "source": [
    "ed_test = lib.nrbs_test.EncoderDecoder(N=N, n=n, mu=mu, m=m, neighbour_id=neighbour_id, neighbour_distance=neighbour_distance,clustering_labels=torch.tensor(clustering.labels_).type(torch.LongTensor),group_indices=group_indices, device=device)"
   ]
  },
  {
   "cell_type": "code",
   "execution_count": 9,
   "metadata": {},
   "outputs": [],
   "source": [
    "ed_n_m = lib.nrbs_n_m.EncoderDecoder(N=N, n=n, mu=mu, m=m, neighbour_id=neighbour_id, neighbour_distance=neighbour_distance, clustering_labels=torch.tensor(clustering.labels_).type(torch.LongTensor), device=device)"
   ]
  },
  {
   "cell_type": "code",
   "execution_count": 10,
   "metadata": {},
   "outputs": [
    {
     "data": {
      "text/plain": [
       "tensor(True, device='cuda:0')"
      ]
     },
     "execution_count": 10,
     "metadata": {},
     "output_type": "execute_result"
    }
   ],
   "source": [
    "torch.sum(ed_test.nrbs.decoder.weight == ed_n_m.nrbs.decoder.weight) == N*n"
   ]
  },
  {
   "cell_type": "code",
   "execution_count": 11,
   "metadata": {},
   "outputs": [
    {
     "data": {
      "text/plain": [
       "tensor(True, device='cuda:0')"
      ]
     },
     "execution_count": 11,
     "metadata": {},
     "output_type": "execute_result"
    }
   ],
   "source": [
    "torch.sum(ed_test.nrbs.encoder.weight == ed_n_m.nrbs.encoder.weight) == N*n"
   ]
  },
  {
   "cell_type": "code",
   "execution_count": 12,
   "metadata": {},
   "outputs": [
    {
     "data": {
      "text/plain": [
       "tensor(True, device='cuda:0')"
      ]
     },
     "execution_count": 12,
     "metadata": {},
     "output_type": "execute_result"
    }
   ],
   "source": [
    "torch.sum(ed_test.nrbs.bandwidth_layers.weight == ed_n_m.nrbs.bandwidth_layers.weight) == n*n*m"
   ]
  },
  {
   "cell_type": "code",
   "execution_count": 13,
   "metadata": {},
   "outputs": [],
   "source": [
    "encoded_test = ed_test.nrbs.encode(datas[999:1000,:N].to(device))\n",
    "encoded_n_m = ed_n_m.nrbs.encode(datas[999:1000,:N].to(device))"
   ]
  },
  {
   "cell_type": "code",
   "execution_count": 14,
   "metadata": {},
   "outputs": [
    {
     "data": {
      "text/plain": [
       "tensor(True, device='cuda:0')"
      ]
     },
     "execution_count": 14,
     "metadata": {},
     "output_type": "execute_result"
    }
   ],
   "source": [
    "torch.sum(encoded_test == encoded_n_m) == n"
   ]
  },
  {
   "cell_type": "code",
   "execution_count": 16,
   "metadata": {},
   "outputs": [
    {
     "data": {
      "text/plain": [
       "torch.Size([1, 20, 50])"
      ]
     },
     "execution_count": 16,
     "metadata": {},
     "output_type": "execute_result"
    }
   ],
   "source": [
    "bs_test = torch.sigmoid(ed_test.nrbs.bandwidth_layers(encoded_test)) / 60\n",
    "bs_test = bs_test.reshape(-1, n, m)\n",
    "bs_test.shape"
   ]
  },
  {
   "cell_type": "code",
   "execution_count": 17,
   "metadata": {},
   "outputs": [
    {
     "data": {
      "text/plain": [
       "torch.Size([1, 20, 14641, 74])"
      ]
     },
     "execution_count": 17,
     "metadata": {},
     "output_type": "execute_result"
    }
   ],
   "source": [
    "neighbour_distance.unsqueeze(0).unsqueeze(0).expand(1, n, -1, -1).shape"
   ]
  },
  {
   "cell_type": "code",
   "execution_count": 18,
   "metadata": {},
   "outputs": [],
   "source": [
    "decoded_test = ed_test.nrbs.decode(encoded_test)\n",
    "decoded_n_m = ed_n_m.nrbs.decode(encoded_test)"
   ]
  },
  {
   "cell_type": "code",
   "execution_count": 36,
   "metadata": {},
   "outputs": [
    {
     "data": {
      "text/plain": [
       "tensor([[0.0001, 0.0001, 0.0001,  ..., 0.0001, 0.0001, 0.0001]],\n",
       "       device='cuda:0', grad_fn=<SqueezeBackward1>)"
      ]
     },
     "execution_count": 36,
     "metadata": {},
     "output_type": "execute_result"
    }
   ],
   "source": [
    "decoded_test"
   ]
  },
  {
   "cell_type": "code",
   "execution_count": 38,
   "metadata": {},
   "outputs": [
    {
     "data": {
      "text/plain": [
       "tensor(1.8033e-06, device='cuda:0', grad_fn=<SumBackward0>)"
      ]
     },
     "execution_count": 38,
     "metadata": {},
     "output_type": "execute_result"
    }
   ],
   "source": [
    "torch.sum(decoded_n_m - decoded_test)"
   ]
  },
  {
   "cell_type": "code",
   "execution_count": 20,
   "metadata": {},
   "outputs": [],
   "source": [
    "bs_test = torch.sigmoid(ed_test.nrbs.bandwidth_layers(encoded_test)) / 60\n",
    "bs_test = bs_test.reshape(-1, n, m)"
   ]
  },
  {
   "cell_type": "code",
   "execution_count": 21,
   "metadata": {},
   "outputs": [],
   "source": [
    "bs_n_m = torch.sigmoid(ed_n_m.nrbs.bandwidth_layers(encoded_n_m[0])) / 60\n",
    "bs_n_m = bs_n_m.reshape(n, m)"
   ]
  },
  {
   "cell_type": "code",
   "execution_count": 22,
   "metadata": {},
   "outputs": [
    {
     "data": {
      "text/plain": [
       "tensor(False, device='cuda:0')"
      ]
     },
     "execution_count": 22,
     "metadata": {},
     "output_type": "execute_result"
    }
   ],
   "source": [
    "torch.sum(bs_n_m == bs_test.unsqueeze(0)) == n * m"
   ]
  },
  {
   "cell_type": "code",
   "execution_count": 23,
   "metadata": {},
   "outputs": [
    {
     "data": {
      "text/plain": [
       "torch.Size([20, 14641])"
      ]
     },
     "execution_count": 23,
     "metadata": {},
     "output_type": "execute_result"
    }
   ],
   "source": [
    "bs_n_m = bs_n_m[:, ed_n_m.nrbs.clustering_labels]\n",
    "bs_n_m.shape"
   ]
  },
  {
   "cell_type": "code",
   "execution_count": 24,
   "metadata": {},
   "outputs": [],
   "source": [
    "convolved_n_m = ed_n_m.nrbs.convolve(\n",
    "                ed_n_m.nrbs.decoder.weight,\n",
    "                ed_n_m.nrbs.neighbour_id,\n",
    "                ed_n_m.nrbs.neighbour_distance,\n",
    "                bs_n_m,\n",
    "                ed_n_m.nrbs.mu,\n",
    "            )"
   ]
  },
  {
   "cell_type": "code",
   "execution_count": 25,
   "metadata": {},
   "outputs": [
    {
     "data": {
      "text/plain": [
       "tensor([[-5.0700e-04, -7.5262e-05, -3.0856e-04,  ..., -1.9609e-04,\n",
       "          1.1001e-04,  9.4636e-05],\n",
       "        [-5.0779e-04, -6.9198e-04, -7.1617e-04,  ..., -7.2528e-04,\n",
       "         -3.0712e-04, -5.6869e-04],\n",
       "        [-1.1306e-03, -1.0105e-03, -1.2024e-03,  ..., -7.9567e-04,\n",
       "         -7.4655e-04, -8.8789e-04],\n",
       "        ...,\n",
       "        [ 7.5838e-04,  1.1266e-03,  1.0055e-03,  ...,  2.7907e-04,\n",
       "          2.5878e-04,  1.2974e-04],\n",
       "        [ 3.0149e-04,  2.5783e-04,  4.8183e-04,  ..., -3.9197e-04,\n",
       "         -4.0592e-04, -3.7127e-04],\n",
       "        [-1.7873e-05,  7.1424e-05,  9.1176e-05,  ..., -7.4330e-04,\n",
       "         -8.8665e-04, -6.0313e-04]], device='cuda:0', grad_fn=<SumBackward1>)"
      ]
     },
     "execution_count": 25,
     "metadata": {},
     "output_type": "execute_result"
    }
   ],
   "source": [
    "convolved_n_m"
   ]
  },
  {
   "cell_type": "code",
   "execution_count": 26,
   "metadata": {},
   "outputs": [],
   "source": [
    "window = torch.relu(\n",
    "            -(ed_n_m.nrbs.neighbour_distance.unsqueeze(0).expand(n, -1, -1) ** 2)\n",
    "            / (bs_n_m.unsqueeze(-1) * mu) ** 2\n",
    "            + 1\n",
    "        )"
   ]
  },
  {
   "cell_type": "code",
   "execution_count": 27,
   "metadata": {},
   "outputs": [
    {
     "data": {
      "text/plain": [
       "torch.Size([20, 14641, 1])"
      ]
     },
     "execution_count": 27,
     "metadata": {},
     "output_type": "execute_result"
    }
   ],
   "source": [
    "torch.sum(window,dim=2,keepdim=True).shape"
   ]
  }
 ],
 "metadata": {
  "kernelspec": {
   "display_name": "rom",
   "language": "python",
   "name": "python3"
  },
  "language_info": {
   "codemirror_mode": {
    "name": "ipython",
    "version": 3
   },
   "file_extension": ".py",
   "mimetype": "text/x-python",
   "name": "python",
   "nbconvert_exporter": "python",
   "pygments_lexer": "ipython3",
   "version": "3.10.8"
  },
  "orig_nbformat": 4,
  "vscode": {
   "interpreter": {
    "hash": "e6a8b2b258f62108f3ff77de09984d8004535cef597ff768a3afe3c2f407c4b8"
   }
  }
 },
 "nbformat": 4,
 "nbformat_minor": 2
}
